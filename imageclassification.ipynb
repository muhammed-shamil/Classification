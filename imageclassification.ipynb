{
  "nbformat": 4,
  "nbformat_minor": 0,
  "metadata": {
    "colab": {
      "provenance": [],
      "mount_file_id": "1-Cd1tk5OXP8pq8HpIDab8HNmer7dSBWx",
      "authorship_tag": "ABX9TyN29PVUxUpHln2Z3PcxS4XW",
      "include_colab_link": true
    },
    "kernelspec": {
      "name": "python3",
      "display_name": "Python 3"
    },
    "language_info": {
      "name": "python"
    }
  },
  "cells": [
    {
      "cell_type": "markdown",
      "metadata": {
        "id": "view-in-github",
        "colab_type": "text"
      },
      "source": [
        "<a href=\"https://colab.research.google.com/github/muhammed-shamil/Classification/blob/main/imageclassification.ipynb\" target=\"_parent\"><img src=\"https://colab.research.google.com/assets/colab-badge.svg\" alt=\"Open In Colab\"/></a>"
      ]
    },
    {
      "cell_type": "code",
      "execution_count": null,
      "metadata": {
        "id": "8YpyHUcYV6qd"
      },
      "outputs": [],
      "source": [
        "import pandas as pd\n",
        "from sklearn import svm\n",
        "import os\n",
        "from skimage.transform import resize  #to resize the image\n",
        "from skimage.io import imread\n",
        "import numpy as np\n",
        "from sklearn.model_selection import train_test_split"
      ]
    },
    {
      "cell_type": "code",
      "source": [
        "os.listdir('/content/drive/MyDrive/data science /Machine Learning /svm/test')"
      ],
      "metadata": {
        "colab": {
          "base_uri": "https://localhost:8080/"
        },
        "id": "PieOn72tWsvM",
        "outputId": "73b04aae-e585-40a4-ed7b-ad35c9a40a08"
      },
      "execution_count": null,
      "outputs": [
        {
          "output_type": "execute_result",
          "data": {
            "text/plain": [
              "['dogs', 'cats']"
            ]
          },
          "metadata": {},
          "execution_count": 2
        }
      ]
    },
    {
      "cell_type": "code",
      "source": [
        "len(os.listdir('/content/drive/MyDrive/data science /Machine Learning /svm/test'))"
      ],
      "metadata": {
        "colab": {
          "base_uri": "https://localhost:8080/"
        },
        "id": "_0Nkv10gW_ba",
        "outputId": "a96725da-9b53-4d02-fc9e-21d230bd8df4"
      },
      "execution_count": null,
      "outputs": [
        {
          "output_type": "execute_result",
          "data": {
            "text/plain": [
              "2"
            ]
          },
          "metadata": {},
          "execution_count": 3
        }
      ]
    },
    {
      "cell_type": "code",
      "source": [
        "len(os.listdir('/content/drive/MyDrive/data science /Machine Learning /svm/test/cats'))"
      ],
      "metadata": {
        "colab": {
          "base_uri": "https://localhost:8080/"
        },
        "id": "gztLghQoXKAw",
        "outputId": "03405c3c-9142-4d13-e818-f132947303c2"
      },
      "execution_count": null,
      "outputs": [
        {
          "output_type": "execute_result",
          "data": {
            "text/plain": [
              "70"
            ]
          },
          "metadata": {},
          "execution_count": 4
        }
      ]
    },
    {
      "cell_type": "code",
      "source": [
        "len(os.path.join('/content/drive/MyDrive/data science /Machine Learning /svm/test','cats'))"
      ],
      "metadata": {
        "colab": {
          "base_uri": "https://localhost:8080/"
        },
        "id": "6SPccvpBXRqu",
        "outputId": "c0542272-63f6-4f9f-cf0b-09c54675d181"
      },
      "execution_count": null,
      "outputs": [
        {
          "output_type": "execute_result",
          "data": {
            "text/plain": [
              "68"
            ]
          },
          "metadata": {},
          "execution_count": 5
        }
      ]
    },
    {
      "cell_type": "code",
      "source": [
        "flat_data_array = []\n",
        "target_arr = []\n",
        "categories = ['cats','dogs']\n",
        "datadir = '/content/drive/MyDrive/data science /Machine Learning /svm/test'"
      ],
      "metadata": {
        "id": "TZupKWM3Xz2t"
      },
      "execution_count": null,
      "outputs": []
    },
    {
      "cell_type": "code",
      "source": [
        "for i in categories:\n",
        "  print('Loading.........category :',i)\n",
        "  path = os.path.join(datadir,i)\n",
        "  for img in os.listdir(path):\n",
        "    img_array = imread(os.path.join(path,img))\n",
        "    img_resized = resize(img_array,(150,150,3))\n",
        "    flat_data_array.append(img_resized.flatten())\n",
        "    target_arr.append(categories.index(i))\n",
        "  print('loaded category :',i)"
      ],
      "metadata": {
        "colab": {
          "base_uri": "https://localhost:8080/"
        },
        "id": "CDazWcjegibB",
        "outputId": "cc76424a-fe7b-415b-844e-d58408e4527e"
      },
      "execution_count": null,
      "outputs": [
        {
          "output_type": "stream",
          "name": "stdout",
          "text": [
            "Loading.........category : cats\n",
            "loaded category : cats\n",
            "Loading.........category : dogs\n",
            "loaded category : dogs\n"
          ]
        }
      ]
    },
    {
      "cell_type": "code",
      "source": [
        "flat_data = np.array(flat_data_array)\n",
        "target = np.array(target_arr)\n",
        "\n",
        "df = pd.DataFrame(flat_data)"
      ],
      "metadata": {
        "id": "CIdb4UbNh0lr"
      },
      "execution_count": null,
      "outputs": []
    },
    {
      "cell_type": "code",
      "source": [
        "df.head()"
      ],
      "metadata": {
        "colab": {
          "base_uri": "https://localhost:8080/",
          "height": 299
        },
        "id": "nlUN1vuQjVgV",
        "outputId": "5d9007bf-1709-4ea2-c06a-44894e4f54d3"
      },
      "execution_count": null,
      "outputs": [
        {
          "output_type": "execute_result",
          "data": {
            "text/plain": [
              "      0         1         2         3         4         5         6      \\\n",
              "0  1.000000  1.000000  1.000000  1.000000  1.000000  1.000000  1.000000   \n",
              "1  0.941176  0.941176  0.941176  0.941176  0.941176  0.941176  0.941176   \n",
              "2  1.000000  1.000000  1.000000  1.000000  1.000000  1.000000  1.000000   \n",
              "3  0.066459  0.050772  0.046851  0.066493  0.050807  0.046885  0.066656   \n",
              "4  0.992157  0.992157  0.992157  0.992157  0.992157  0.992157  0.992157   \n",
              "\n",
              "      7         8         9      ...     67490     67491     67492     67493  \\\n",
              "0  1.000000  1.000000  1.000000  ...  1.000000  1.000000  1.000000  1.000000   \n",
              "1  0.941176  0.941176  0.941176  ...  0.984355  0.956754  0.970721  0.983632   \n",
              "2  1.000000  1.000000  1.000000  ...  1.000000  1.000000  1.000000  1.000000   \n",
              "3  0.050969  0.047048  0.066667  ...  0.047212  0.106876  0.045109  0.042669   \n",
              "4  0.992157  0.992157  0.992157  ...  0.980119  0.973224  0.973224  0.973224   \n",
              "\n",
              "      67494     67495     67496     67497     67498     67499  \n",
              "0  1.000000  1.000000  1.000000  1.000000  1.000000  1.000000  \n",
              "1  0.951765  0.967450  0.979216  0.951643  0.967330  0.979094  \n",
              "2  1.000000  1.000000  1.000000  1.000000  1.000000  1.000000  \n",
              "3  0.138280  0.038187  0.038115  0.188594  0.059359  0.061700  \n",
              "4  0.972549  0.972549  0.972549  0.972549  0.972549  0.972549  \n",
              "\n",
              "[5 rows x 67500 columns]"
            ],
            "text/html": [
              "\n",
              "  <div id=\"df-a524bc30-0f03-406b-a51a-7b96e0a2e5f8\">\n",
              "    <div class=\"colab-df-container\">\n",
              "      <div>\n",
              "<style scoped>\n",
              "    .dataframe tbody tr th:only-of-type {\n",
              "        vertical-align: middle;\n",
              "    }\n",
              "\n",
              "    .dataframe tbody tr th {\n",
              "        vertical-align: top;\n",
              "    }\n",
              "\n",
              "    .dataframe thead th {\n",
              "        text-align: right;\n",
              "    }\n",
              "</style>\n",
              "<table border=\"1\" class=\"dataframe\">\n",
              "  <thead>\n",
              "    <tr style=\"text-align: right;\">\n",
              "      <th></th>\n",
              "      <th>0</th>\n",
              "      <th>1</th>\n",
              "      <th>2</th>\n",
              "      <th>3</th>\n",
              "      <th>4</th>\n",
              "      <th>5</th>\n",
              "      <th>6</th>\n",
              "      <th>7</th>\n",
              "      <th>8</th>\n",
              "      <th>9</th>\n",
              "      <th>...</th>\n",
              "      <th>67490</th>\n",
              "      <th>67491</th>\n",
              "      <th>67492</th>\n",
              "      <th>67493</th>\n",
              "      <th>67494</th>\n",
              "      <th>67495</th>\n",
              "      <th>67496</th>\n",
              "      <th>67497</th>\n",
              "      <th>67498</th>\n",
              "      <th>67499</th>\n",
              "    </tr>\n",
              "  </thead>\n",
              "  <tbody>\n",
              "    <tr>\n",
              "      <th>0</th>\n",
              "      <td>1.000000</td>\n",
              "      <td>1.000000</td>\n",
              "      <td>1.000000</td>\n",
              "      <td>1.000000</td>\n",
              "      <td>1.000000</td>\n",
              "      <td>1.000000</td>\n",
              "      <td>1.000000</td>\n",
              "      <td>1.000000</td>\n",
              "      <td>1.000000</td>\n",
              "      <td>1.000000</td>\n",
              "      <td>...</td>\n",
              "      <td>1.000000</td>\n",
              "      <td>1.000000</td>\n",
              "      <td>1.000000</td>\n",
              "      <td>1.000000</td>\n",
              "      <td>1.000000</td>\n",
              "      <td>1.000000</td>\n",
              "      <td>1.000000</td>\n",
              "      <td>1.000000</td>\n",
              "      <td>1.000000</td>\n",
              "      <td>1.000000</td>\n",
              "    </tr>\n",
              "    <tr>\n",
              "      <th>1</th>\n",
              "      <td>0.941176</td>\n",
              "      <td>0.941176</td>\n",
              "      <td>0.941176</td>\n",
              "      <td>0.941176</td>\n",
              "      <td>0.941176</td>\n",
              "      <td>0.941176</td>\n",
              "      <td>0.941176</td>\n",
              "      <td>0.941176</td>\n",
              "      <td>0.941176</td>\n",
              "      <td>0.941176</td>\n",
              "      <td>...</td>\n",
              "      <td>0.984355</td>\n",
              "      <td>0.956754</td>\n",
              "      <td>0.970721</td>\n",
              "      <td>0.983632</td>\n",
              "      <td>0.951765</td>\n",
              "      <td>0.967450</td>\n",
              "      <td>0.979216</td>\n",
              "      <td>0.951643</td>\n",
              "      <td>0.967330</td>\n",
              "      <td>0.979094</td>\n",
              "    </tr>\n",
              "    <tr>\n",
              "      <th>2</th>\n",
              "      <td>1.000000</td>\n",
              "      <td>1.000000</td>\n",
              "      <td>1.000000</td>\n",
              "      <td>1.000000</td>\n",
              "      <td>1.000000</td>\n",
              "      <td>1.000000</td>\n",
              "      <td>1.000000</td>\n",
              "      <td>1.000000</td>\n",
              "      <td>1.000000</td>\n",
              "      <td>1.000000</td>\n",
              "      <td>...</td>\n",
              "      <td>1.000000</td>\n",
              "      <td>1.000000</td>\n",
              "      <td>1.000000</td>\n",
              "      <td>1.000000</td>\n",
              "      <td>1.000000</td>\n",
              "      <td>1.000000</td>\n",
              "      <td>1.000000</td>\n",
              "      <td>1.000000</td>\n",
              "      <td>1.000000</td>\n",
              "      <td>1.000000</td>\n",
              "    </tr>\n",
              "    <tr>\n",
              "      <th>3</th>\n",
              "      <td>0.066459</td>\n",
              "      <td>0.050772</td>\n",
              "      <td>0.046851</td>\n",
              "      <td>0.066493</td>\n",
              "      <td>0.050807</td>\n",
              "      <td>0.046885</td>\n",
              "      <td>0.066656</td>\n",
              "      <td>0.050969</td>\n",
              "      <td>0.047048</td>\n",
              "      <td>0.066667</td>\n",
              "      <td>...</td>\n",
              "      <td>0.047212</td>\n",
              "      <td>0.106876</td>\n",
              "      <td>0.045109</td>\n",
              "      <td>0.042669</td>\n",
              "      <td>0.138280</td>\n",
              "      <td>0.038187</td>\n",
              "      <td>0.038115</td>\n",
              "      <td>0.188594</td>\n",
              "      <td>0.059359</td>\n",
              "      <td>0.061700</td>\n",
              "    </tr>\n",
              "    <tr>\n",
              "      <th>4</th>\n",
              "      <td>0.992157</td>\n",
              "      <td>0.992157</td>\n",
              "      <td>0.992157</td>\n",
              "      <td>0.992157</td>\n",
              "      <td>0.992157</td>\n",
              "      <td>0.992157</td>\n",
              "      <td>0.992157</td>\n",
              "      <td>0.992157</td>\n",
              "      <td>0.992157</td>\n",
              "      <td>0.992157</td>\n",
              "      <td>...</td>\n",
              "      <td>0.980119</td>\n",
              "      <td>0.973224</td>\n",
              "      <td>0.973224</td>\n",
              "      <td>0.973224</td>\n",
              "      <td>0.972549</td>\n",
              "      <td>0.972549</td>\n",
              "      <td>0.972549</td>\n",
              "      <td>0.972549</td>\n",
              "      <td>0.972549</td>\n",
              "      <td>0.972549</td>\n",
              "    </tr>\n",
              "  </tbody>\n",
              "</table>\n",
              "<p>5 rows × 67500 columns</p>\n",
              "</div>\n",
              "      <button class=\"colab-df-convert\" onclick=\"convertToInteractive('df-a524bc30-0f03-406b-a51a-7b96e0a2e5f8')\"\n",
              "              title=\"Convert this dataframe to an interactive table.\"\n",
              "              style=\"display:none;\">\n",
              "        \n",
              "  <svg xmlns=\"http://www.w3.org/2000/svg\" height=\"24px\"viewBox=\"0 0 24 24\"\n",
              "       width=\"24px\">\n",
              "    <path d=\"M0 0h24v24H0V0z\" fill=\"none\"/>\n",
              "    <path d=\"M18.56 5.44l.94 2.06.94-2.06 2.06-.94-2.06-.94-.94-2.06-.94 2.06-2.06.94zm-11 1L8.5 8.5l.94-2.06 2.06-.94-2.06-.94L8.5 2.5l-.94 2.06-2.06.94zm10 10l.94 2.06.94-2.06 2.06-.94-2.06-.94-.94-2.06-.94 2.06-2.06.94z\"/><path d=\"M17.41 7.96l-1.37-1.37c-.4-.4-.92-.59-1.43-.59-.52 0-1.04.2-1.43.59L10.3 9.45l-7.72 7.72c-.78.78-.78 2.05 0 2.83L4 21.41c.39.39.9.59 1.41.59.51 0 1.02-.2 1.41-.59l7.78-7.78 2.81-2.81c.8-.78.8-2.07 0-2.86zM5.41 20L4 18.59l7.72-7.72 1.47 1.35L5.41 20z\"/>\n",
              "  </svg>\n",
              "      </button>\n",
              "      \n",
              "  <style>\n",
              "    .colab-df-container {\n",
              "      display:flex;\n",
              "      flex-wrap:wrap;\n",
              "      gap: 12px;\n",
              "    }\n",
              "\n",
              "    .colab-df-convert {\n",
              "      background-color: #E8F0FE;\n",
              "      border: none;\n",
              "      border-radius: 50%;\n",
              "      cursor: pointer;\n",
              "      display: none;\n",
              "      fill: #1967D2;\n",
              "      height: 32px;\n",
              "      padding: 0 0 0 0;\n",
              "      width: 32px;\n",
              "    }\n",
              "\n",
              "    .colab-df-convert:hover {\n",
              "      background-color: #E2EBFA;\n",
              "      box-shadow: 0px 1px 2px rgba(60, 64, 67, 0.3), 0px 1px 3px 1px rgba(60, 64, 67, 0.15);\n",
              "      fill: #174EA6;\n",
              "    }\n",
              "\n",
              "    [theme=dark] .colab-df-convert {\n",
              "      background-color: #3B4455;\n",
              "      fill: #D2E3FC;\n",
              "    }\n",
              "\n",
              "    [theme=dark] .colab-df-convert:hover {\n",
              "      background-color: #434B5C;\n",
              "      box-shadow: 0px 1px 3px 1px rgba(0, 0, 0, 0.15);\n",
              "      filter: drop-shadow(0px 1px 2px rgba(0, 0, 0, 0.3));\n",
              "      fill: #FFFFFF;\n",
              "    }\n",
              "  </style>\n",
              "\n",
              "      <script>\n",
              "        const buttonEl =\n",
              "          document.querySelector('#df-a524bc30-0f03-406b-a51a-7b96e0a2e5f8 button.colab-df-convert');\n",
              "        buttonEl.style.display =\n",
              "          google.colab.kernel.accessAllowed ? 'block' : 'none';\n",
              "\n",
              "        async function convertToInteractive(key) {\n",
              "          const element = document.querySelector('#df-a524bc30-0f03-406b-a51a-7b96e0a2e5f8');\n",
              "          const dataTable =\n",
              "            await google.colab.kernel.invokeFunction('convertToInteractive',\n",
              "                                                     [key], {});\n",
              "          if (!dataTable) return;\n",
              "\n",
              "          const docLinkHtml = 'Like what you see? Visit the ' +\n",
              "            '<a target=\"_blank\" href=https://colab.research.google.com/notebooks/data_table.ipynb>data table notebook</a>'\n",
              "            + ' to learn more about interactive tables.';\n",
              "          element.innerHTML = '';\n",
              "          dataTable['output_type'] = 'display_data';\n",
              "          await google.colab.output.renderOutput(dataTable, element);\n",
              "          const docLink = document.createElement('div');\n",
              "          docLink.innerHTML = docLinkHtml;\n",
              "          element.appendChild(docLink);\n",
              "        }\n",
              "      </script>\n",
              "    </div>\n",
              "  </div>\n",
              "  "
            ]
          },
          "metadata": {},
          "execution_count": 9
        }
      ]
    },
    {
      "cell_type": "code",
      "source": [
        "df.shape"
      ],
      "metadata": {
        "id": "hyJeP7yfjYBZ",
        "colab": {
          "base_uri": "https://localhost:8080/"
        },
        "outputId": "8889c870-cb14-485a-bf93-9a50ceb86a38"
      },
      "execution_count": null,
      "outputs": [
        {
          "output_type": "execute_result",
          "data": {
            "text/plain": [
              "(140, 67500)"
            ]
          },
          "metadata": {},
          "execution_count": 10
        }
      ]
    },
    {
      "cell_type": "code",
      "source": [
        "df['target'] = target"
      ],
      "metadata": {
        "id": "dqQbSBEthfZs"
      },
      "execution_count": null,
      "outputs": []
    },
    {
      "cell_type": "code",
      "source": [
        "df"
      ],
      "metadata": {
        "colab": {
          "base_uri": "https://localhost:8080/",
          "height": 487
        },
        "id": "V7DT5q07i6lc",
        "outputId": "e9caec30-8624-4b9d-ae79-c33d0975934d"
      },
      "execution_count": null,
      "outputs": [
        {
          "output_type": "execute_result",
          "data": {
            "text/plain": [
              "            0         1         2         3         4         5         6  \\\n",
              "0    1.000000  1.000000  1.000000  1.000000  1.000000  1.000000  1.000000   \n",
              "1    0.941176  0.941176  0.941176  0.941176  0.941176  0.941176  0.941176   \n",
              "2    1.000000  1.000000  1.000000  1.000000  1.000000  1.000000  1.000000   \n",
              "3    0.066459  0.050772  0.046851  0.066493  0.050807  0.046885  0.066656   \n",
              "4    0.992157  0.992157  0.992157  0.992157  0.992157  0.992157  0.992157   \n",
              "..        ...       ...       ...       ...       ...       ...       ...   \n",
              "135  0.108179  0.126440  0.117472  0.131021  0.136840  0.130897  0.142595   \n",
              "136  0.255179  0.317164  0.207298  0.246564  0.316602  0.213517  0.225567   \n",
              "137  0.145098  0.109804  0.074510  0.145098  0.109804  0.074510  0.145098   \n",
              "138  0.571466  0.543065  0.502978  0.545882  0.532140  0.505298  0.516727   \n",
              "139  0.793502  0.671443  0.543091  0.780656  0.628852  0.474770  0.767930   \n",
              "\n",
              "            7         8         9  ...     67491     67492     67493  \\\n",
              "0    1.000000  1.000000  1.000000  ...  1.000000  1.000000  1.000000   \n",
              "1    0.941176  0.941176  0.941176  ...  0.956754  0.970721  0.983632   \n",
              "2    1.000000  1.000000  1.000000  ...  1.000000  1.000000  1.000000   \n",
              "3    0.050969  0.047048  0.066667  ...  0.106876  0.045109  0.042669   \n",
              "4    0.992157  0.992157  0.992157  ...  0.973224  0.973224  0.973224   \n",
              "..        ...       ...       ...  ...       ...       ...       ...   \n",
              "135  0.152673  0.141076  0.157799  ...  0.543393  0.539119  0.525428   \n",
              "136  0.299391  0.216565  0.212490  ...  0.575063  0.289463  0.277393   \n",
              "137  0.109804  0.074510  0.145101  ...  0.407967  0.326716  0.303603   \n",
              "138  0.514006  0.494402  0.490304  ...  0.543187  0.543451  0.548504   \n",
              "139  0.608017  0.447716  0.790871  ...  0.797953  0.672070  0.497984   \n",
              "\n",
              "        67494     67495     67496     67497     67498     67499  target  \n",
              "0    1.000000  1.000000  1.000000  1.000000  1.000000  1.000000       0  \n",
              "1    0.951765  0.967450  0.979216  0.951643  0.967330  0.979094       0  \n",
              "2    1.000000  1.000000  1.000000  1.000000  1.000000  1.000000       0  \n",
              "3    0.138280  0.038187  0.038115  0.188594  0.059359  0.061700       0  \n",
              "4    0.972549  0.972549  0.972549  0.972549  0.972549  0.972549       0  \n",
              "..        ...       ...       ...       ...       ...       ...     ...  \n",
              "135  0.533469  0.527124  0.525000  0.545633  0.538932  0.538797       1  \n",
              "136  0.666403  0.348591  0.297203  0.712691  0.388277  0.316823       1  \n",
              "137  0.433181  0.354410  0.320646  0.448993  0.370615  0.335295       1  \n",
              "138  0.556060  0.558443  0.564019  0.518275  0.542879  0.544279       1  \n",
              "139  0.803082  0.681208  0.508537  0.803690  0.678609  0.505929       1  \n",
              "\n",
              "[140 rows x 67501 columns]"
            ],
            "text/html": [
              "\n",
              "  <div id=\"df-4fc8da07-0734-4126-a6be-87e68f63476e\">\n",
              "    <div class=\"colab-df-container\">\n",
              "      <div>\n",
              "<style scoped>\n",
              "    .dataframe tbody tr th:only-of-type {\n",
              "        vertical-align: middle;\n",
              "    }\n",
              "\n",
              "    .dataframe tbody tr th {\n",
              "        vertical-align: top;\n",
              "    }\n",
              "\n",
              "    .dataframe thead th {\n",
              "        text-align: right;\n",
              "    }\n",
              "</style>\n",
              "<table border=\"1\" class=\"dataframe\">\n",
              "  <thead>\n",
              "    <tr style=\"text-align: right;\">\n",
              "      <th></th>\n",
              "      <th>0</th>\n",
              "      <th>1</th>\n",
              "      <th>2</th>\n",
              "      <th>3</th>\n",
              "      <th>4</th>\n",
              "      <th>5</th>\n",
              "      <th>6</th>\n",
              "      <th>7</th>\n",
              "      <th>8</th>\n",
              "      <th>9</th>\n",
              "      <th>...</th>\n",
              "      <th>67491</th>\n",
              "      <th>67492</th>\n",
              "      <th>67493</th>\n",
              "      <th>67494</th>\n",
              "      <th>67495</th>\n",
              "      <th>67496</th>\n",
              "      <th>67497</th>\n",
              "      <th>67498</th>\n",
              "      <th>67499</th>\n",
              "      <th>target</th>\n",
              "    </tr>\n",
              "  </thead>\n",
              "  <tbody>\n",
              "    <tr>\n",
              "      <th>0</th>\n",
              "      <td>1.000000</td>\n",
              "      <td>1.000000</td>\n",
              "      <td>1.000000</td>\n",
              "      <td>1.000000</td>\n",
              "      <td>1.000000</td>\n",
              "      <td>1.000000</td>\n",
              "      <td>1.000000</td>\n",
              "      <td>1.000000</td>\n",
              "      <td>1.000000</td>\n",
              "      <td>1.000000</td>\n",
              "      <td>...</td>\n",
              "      <td>1.000000</td>\n",
              "      <td>1.000000</td>\n",
              "      <td>1.000000</td>\n",
              "      <td>1.000000</td>\n",
              "      <td>1.000000</td>\n",
              "      <td>1.000000</td>\n",
              "      <td>1.000000</td>\n",
              "      <td>1.000000</td>\n",
              "      <td>1.000000</td>\n",
              "      <td>0</td>\n",
              "    </tr>\n",
              "    <tr>\n",
              "      <th>1</th>\n",
              "      <td>0.941176</td>\n",
              "      <td>0.941176</td>\n",
              "      <td>0.941176</td>\n",
              "      <td>0.941176</td>\n",
              "      <td>0.941176</td>\n",
              "      <td>0.941176</td>\n",
              "      <td>0.941176</td>\n",
              "      <td>0.941176</td>\n",
              "      <td>0.941176</td>\n",
              "      <td>0.941176</td>\n",
              "      <td>...</td>\n",
              "      <td>0.956754</td>\n",
              "      <td>0.970721</td>\n",
              "      <td>0.983632</td>\n",
              "      <td>0.951765</td>\n",
              "      <td>0.967450</td>\n",
              "      <td>0.979216</td>\n",
              "      <td>0.951643</td>\n",
              "      <td>0.967330</td>\n",
              "      <td>0.979094</td>\n",
              "      <td>0</td>\n",
              "    </tr>\n",
              "    <tr>\n",
              "      <th>2</th>\n",
              "      <td>1.000000</td>\n",
              "      <td>1.000000</td>\n",
              "      <td>1.000000</td>\n",
              "      <td>1.000000</td>\n",
              "      <td>1.000000</td>\n",
              "      <td>1.000000</td>\n",
              "      <td>1.000000</td>\n",
              "      <td>1.000000</td>\n",
              "      <td>1.000000</td>\n",
              "      <td>1.000000</td>\n",
              "      <td>...</td>\n",
              "      <td>1.000000</td>\n",
              "      <td>1.000000</td>\n",
              "      <td>1.000000</td>\n",
              "      <td>1.000000</td>\n",
              "      <td>1.000000</td>\n",
              "      <td>1.000000</td>\n",
              "      <td>1.000000</td>\n",
              "      <td>1.000000</td>\n",
              "      <td>1.000000</td>\n",
              "      <td>0</td>\n",
              "    </tr>\n",
              "    <tr>\n",
              "      <th>3</th>\n",
              "      <td>0.066459</td>\n",
              "      <td>0.050772</td>\n",
              "      <td>0.046851</td>\n",
              "      <td>0.066493</td>\n",
              "      <td>0.050807</td>\n",
              "      <td>0.046885</td>\n",
              "      <td>0.066656</td>\n",
              "      <td>0.050969</td>\n",
              "      <td>0.047048</td>\n",
              "      <td>0.066667</td>\n",
              "      <td>...</td>\n",
              "      <td>0.106876</td>\n",
              "      <td>0.045109</td>\n",
              "      <td>0.042669</td>\n",
              "      <td>0.138280</td>\n",
              "      <td>0.038187</td>\n",
              "      <td>0.038115</td>\n",
              "      <td>0.188594</td>\n",
              "      <td>0.059359</td>\n",
              "      <td>0.061700</td>\n",
              "      <td>0</td>\n",
              "    </tr>\n",
              "    <tr>\n",
              "      <th>4</th>\n",
              "      <td>0.992157</td>\n",
              "      <td>0.992157</td>\n",
              "      <td>0.992157</td>\n",
              "      <td>0.992157</td>\n",
              "      <td>0.992157</td>\n",
              "      <td>0.992157</td>\n",
              "      <td>0.992157</td>\n",
              "      <td>0.992157</td>\n",
              "      <td>0.992157</td>\n",
              "      <td>0.992157</td>\n",
              "      <td>...</td>\n",
              "      <td>0.973224</td>\n",
              "      <td>0.973224</td>\n",
              "      <td>0.973224</td>\n",
              "      <td>0.972549</td>\n",
              "      <td>0.972549</td>\n",
              "      <td>0.972549</td>\n",
              "      <td>0.972549</td>\n",
              "      <td>0.972549</td>\n",
              "      <td>0.972549</td>\n",
              "      <td>0</td>\n",
              "    </tr>\n",
              "    <tr>\n",
              "      <th>...</th>\n",
              "      <td>...</td>\n",
              "      <td>...</td>\n",
              "      <td>...</td>\n",
              "      <td>...</td>\n",
              "      <td>...</td>\n",
              "      <td>...</td>\n",
              "      <td>...</td>\n",
              "      <td>...</td>\n",
              "      <td>...</td>\n",
              "      <td>...</td>\n",
              "      <td>...</td>\n",
              "      <td>...</td>\n",
              "      <td>...</td>\n",
              "      <td>...</td>\n",
              "      <td>...</td>\n",
              "      <td>...</td>\n",
              "      <td>...</td>\n",
              "      <td>...</td>\n",
              "      <td>...</td>\n",
              "      <td>...</td>\n",
              "      <td>...</td>\n",
              "    </tr>\n",
              "    <tr>\n",
              "      <th>135</th>\n",
              "      <td>0.108179</td>\n",
              "      <td>0.126440</td>\n",
              "      <td>0.117472</td>\n",
              "      <td>0.131021</td>\n",
              "      <td>0.136840</td>\n",
              "      <td>0.130897</td>\n",
              "      <td>0.142595</td>\n",
              "      <td>0.152673</td>\n",
              "      <td>0.141076</td>\n",
              "      <td>0.157799</td>\n",
              "      <td>...</td>\n",
              "      <td>0.543393</td>\n",
              "      <td>0.539119</td>\n",
              "      <td>0.525428</td>\n",
              "      <td>0.533469</td>\n",
              "      <td>0.527124</td>\n",
              "      <td>0.525000</td>\n",
              "      <td>0.545633</td>\n",
              "      <td>0.538932</td>\n",
              "      <td>0.538797</td>\n",
              "      <td>1</td>\n",
              "    </tr>\n",
              "    <tr>\n",
              "      <th>136</th>\n",
              "      <td>0.255179</td>\n",
              "      <td>0.317164</td>\n",
              "      <td>0.207298</td>\n",
              "      <td>0.246564</td>\n",
              "      <td>0.316602</td>\n",
              "      <td>0.213517</td>\n",
              "      <td>0.225567</td>\n",
              "      <td>0.299391</td>\n",
              "      <td>0.216565</td>\n",
              "      <td>0.212490</td>\n",
              "      <td>...</td>\n",
              "      <td>0.575063</td>\n",
              "      <td>0.289463</td>\n",
              "      <td>0.277393</td>\n",
              "      <td>0.666403</td>\n",
              "      <td>0.348591</td>\n",
              "      <td>0.297203</td>\n",
              "      <td>0.712691</td>\n",
              "      <td>0.388277</td>\n",
              "      <td>0.316823</td>\n",
              "      <td>1</td>\n",
              "    </tr>\n",
              "    <tr>\n",
              "      <th>137</th>\n",
              "      <td>0.145098</td>\n",
              "      <td>0.109804</td>\n",
              "      <td>0.074510</td>\n",
              "      <td>0.145098</td>\n",
              "      <td>0.109804</td>\n",
              "      <td>0.074510</td>\n",
              "      <td>0.145098</td>\n",
              "      <td>0.109804</td>\n",
              "      <td>0.074510</td>\n",
              "      <td>0.145101</td>\n",
              "      <td>...</td>\n",
              "      <td>0.407967</td>\n",
              "      <td>0.326716</td>\n",
              "      <td>0.303603</td>\n",
              "      <td>0.433181</td>\n",
              "      <td>0.354410</td>\n",
              "      <td>0.320646</td>\n",
              "      <td>0.448993</td>\n",
              "      <td>0.370615</td>\n",
              "      <td>0.335295</td>\n",
              "      <td>1</td>\n",
              "    </tr>\n",
              "    <tr>\n",
              "      <th>138</th>\n",
              "      <td>0.571466</td>\n",
              "      <td>0.543065</td>\n",
              "      <td>0.502978</td>\n",
              "      <td>0.545882</td>\n",
              "      <td>0.532140</td>\n",
              "      <td>0.505298</td>\n",
              "      <td>0.516727</td>\n",
              "      <td>0.514006</td>\n",
              "      <td>0.494402</td>\n",
              "      <td>0.490304</td>\n",
              "      <td>...</td>\n",
              "      <td>0.543187</td>\n",
              "      <td>0.543451</td>\n",
              "      <td>0.548504</td>\n",
              "      <td>0.556060</td>\n",
              "      <td>0.558443</td>\n",
              "      <td>0.564019</td>\n",
              "      <td>0.518275</td>\n",
              "      <td>0.542879</td>\n",
              "      <td>0.544279</td>\n",
              "      <td>1</td>\n",
              "    </tr>\n",
              "    <tr>\n",
              "      <th>139</th>\n",
              "      <td>0.793502</td>\n",
              "      <td>0.671443</td>\n",
              "      <td>0.543091</td>\n",
              "      <td>0.780656</td>\n",
              "      <td>0.628852</td>\n",
              "      <td>0.474770</td>\n",
              "      <td>0.767930</td>\n",
              "      <td>0.608017</td>\n",
              "      <td>0.447716</td>\n",
              "      <td>0.790871</td>\n",
              "      <td>...</td>\n",
              "      <td>0.797953</td>\n",
              "      <td>0.672070</td>\n",
              "      <td>0.497984</td>\n",
              "      <td>0.803082</td>\n",
              "      <td>0.681208</td>\n",
              "      <td>0.508537</td>\n",
              "      <td>0.803690</td>\n",
              "      <td>0.678609</td>\n",
              "      <td>0.505929</td>\n",
              "      <td>1</td>\n",
              "    </tr>\n",
              "  </tbody>\n",
              "</table>\n",
              "<p>140 rows × 67501 columns</p>\n",
              "</div>\n",
              "      <button class=\"colab-df-convert\" onclick=\"convertToInteractive('df-4fc8da07-0734-4126-a6be-87e68f63476e')\"\n",
              "              title=\"Convert this dataframe to an interactive table.\"\n",
              "              style=\"display:none;\">\n",
              "        \n",
              "  <svg xmlns=\"http://www.w3.org/2000/svg\" height=\"24px\"viewBox=\"0 0 24 24\"\n",
              "       width=\"24px\">\n",
              "    <path d=\"M0 0h24v24H0V0z\" fill=\"none\"/>\n",
              "    <path d=\"M18.56 5.44l.94 2.06.94-2.06 2.06-.94-2.06-.94-.94-2.06-.94 2.06-2.06.94zm-11 1L8.5 8.5l.94-2.06 2.06-.94-2.06-.94L8.5 2.5l-.94 2.06-2.06.94zm10 10l.94 2.06.94-2.06 2.06-.94-2.06-.94-.94-2.06-.94 2.06-2.06.94z\"/><path d=\"M17.41 7.96l-1.37-1.37c-.4-.4-.92-.59-1.43-.59-.52 0-1.04.2-1.43.59L10.3 9.45l-7.72 7.72c-.78.78-.78 2.05 0 2.83L4 21.41c.39.39.9.59 1.41.59.51 0 1.02-.2 1.41-.59l7.78-7.78 2.81-2.81c.8-.78.8-2.07 0-2.86zM5.41 20L4 18.59l7.72-7.72 1.47 1.35L5.41 20z\"/>\n",
              "  </svg>\n",
              "      </button>\n",
              "      \n",
              "  <style>\n",
              "    .colab-df-container {\n",
              "      display:flex;\n",
              "      flex-wrap:wrap;\n",
              "      gap: 12px;\n",
              "    }\n",
              "\n",
              "    .colab-df-convert {\n",
              "      background-color: #E8F0FE;\n",
              "      border: none;\n",
              "      border-radius: 50%;\n",
              "      cursor: pointer;\n",
              "      display: none;\n",
              "      fill: #1967D2;\n",
              "      height: 32px;\n",
              "      padding: 0 0 0 0;\n",
              "      width: 32px;\n",
              "    }\n",
              "\n",
              "    .colab-df-convert:hover {\n",
              "      background-color: #E2EBFA;\n",
              "      box-shadow: 0px 1px 2px rgba(60, 64, 67, 0.3), 0px 1px 3px 1px rgba(60, 64, 67, 0.15);\n",
              "      fill: #174EA6;\n",
              "    }\n",
              "\n",
              "    [theme=dark] .colab-df-convert {\n",
              "      background-color: #3B4455;\n",
              "      fill: #D2E3FC;\n",
              "    }\n",
              "\n",
              "    [theme=dark] .colab-df-convert:hover {\n",
              "      background-color: #434B5C;\n",
              "      box-shadow: 0px 1px 3px 1px rgba(0, 0, 0, 0.15);\n",
              "      filter: drop-shadow(0px 1px 2px rgba(0, 0, 0, 0.3));\n",
              "      fill: #FFFFFF;\n",
              "    }\n",
              "  </style>\n",
              "\n",
              "      <script>\n",
              "        const buttonEl =\n",
              "          document.querySelector('#df-4fc8da07-0734-4126-a6be-87e68f63476e button.colab-df-convert');\n",
              "        buttonEl.style.display =\n",
              "          google.colab.kernel.accessAllowed ? 'block' : 'none';\n",
              "\n",
              "        async function convertToInteractive(key) {\n",
              "          const element = document.querySelector('#df-4fc8da07-0734-4126-a6be-87e68f63476e');\n",
              "          const dataTable =\n",
              "            await google.colab.kernel.invokeFunction('convertToInteractive',\n",
              "                                                     [key], {});\n",
              "          if (!dataTable) return;\n",
              "\n",
              "          const docLinkHtml = 'Like what you see? Visit the ' +\n",
              "            '<a target=\"_blank\" href=https://colab.research.google.com/notebooks/data_table.ipynb>data table notebook</a>'\n",
              "            + ' to learn more about interactive tables.';\n",
              "          element.innerHTML = '';\n",
              "          dataTable['output_type'] = 'display_data';\n",
              "          await google.colab.output.renderOutput(dataTable, element);\n",
              "          const docLink = document.createElement('div');\n",
              "          docLink.innerHTML = docLinkHtml;\n",
              "          element.appendChild(docLink);\n",
              "        }\n",
              "      </script>\n",
              "    </div>\n",
              "  </div>\n",
              "  "
            ]
          },
          "metadata": {},
          "execution_count": 12
        }
      ]
    },
    {
      "cell_type": "code",
      "source": [
        "x = df.iloc[:,:-1]\n",
        "y = df.iloc[:,-1]"
      ],
      "metadata": {
        "id": "5AtXooqRi7-b"
      },
      "execution_count": null,
      "outputs": []
    },
    {
      "cell_type": "code",
      "source": [
        "xtrain,xtest,ytrain,ytest = train_test_split(x,y,test_size=0.20,random_state=0)"
      ],
      "metadata": {
        "id": "djmWNsmbjIrI"
      },
      "execution_count": null,
      "outputs": []
    },
    {
      "cell_type": "code",
      "source": [
        "clf = svm.SVC()\n",
        "\n",
        "clf.fit(xtrain,ytrain)"
      ],
      "metadata": {
        "colab": {
          "base_uri": "https://localhost:8080/",
          "height": 74
        },
        "id": "M2HLQNLQjfc3",
        "outputId": "0d45a185-a991-43f7-f40b-15b10c5ac021"
      },
      "execution_count": null,
      "outputs": [
        {
          "output_type": "execute_result",
          "data": {
            "text/plain": [
              "SVC()"
            ],
            "text/html": [
              "<style>#sk-container-id-1 {color: black;background-color: white;}#sk-container-id-1 pre{padding: 0;}#sk-container-id-1 div.sk-toggleable {background-color: white;}#sk-container-id-1 label.sk-toggleable__label {cursor: pointer;display: block;width: 100%;margin-bottom: 0;padding: 0.3em;box-sizing: border-box;text-align: center;}#sk-container-id-1 label.sk-toggleable__label-arrow:before {content: \"▸\";float: left;margin-right: 0.25em;color: #696969;}#sk-container-id-1 label.sk-toggleable__label-arrow:hover:before {color: black;}#sk-container-id-1 div.sk-estimator:hover label.sk-toggleable__label-arrow:before {color: black;}#sk-container-id-1 div.sk-toggleable__content {max-height: 0;max-width: 0;overflow: hidden;text-align: left;background-color: #f0f8ff;}#sk-container-id-1 div.sk-toggleable__content pre {margin: 0.2em;color: black;border-radius: 0.25em;background-color: #f0f8ff;}#sk-container-id-1 input.sk-toggleable__control:checked~div.sk-toggleable__content {max-height: 200px;max-width: 100%;overflow: auto;}#sk-container-id-1 input.sk-toggleable__control:checked~label.sk-toggleable__label-arrow:before {content: \"▾\";}#sk-container-id-1 div.sk-estimator input.sk-toggleable__control:checked~label.sk-toggleable__label {background-color: #d4ebff;}#sk-container-id-1 div.sk-label input.sk-toggleable__control:checked~label.sk-toggleable__label {background-color: #d4ebff;}#sk-container-id-1 input.sk-hidden--visually {border: 0;clip: rect(1px 1px 1px 1px);clip: rect(1px, 1px, 1px, 1px);height: 1px;margin: -1px;overflow: hidden;padding: 0;position: absolute;width: 1px;}#sk-container-id-1 div.sk-estimator {font-family: monospace;background-color: #f0f8ff;border: 1px dotted black;border-radius: 0.25em;box-sizing: border-box;margin-bottom: 0.5em;}#sk-container-id-1 div.sk-estimator:hover {background-color: #d4ebff;}#sk-container-id-1 div.sk-parallel-item::after {content: \"\";width: 100%;border-bottom: 1px solid gray;flex-grow: 1;}#sk-container-id-1 div.sk-label:hover label.sk-toggleable__label {background-color: #d4ebff;}#sk-container-id-1 div.sk-serial::before {content: \"\";position: absolute;border-left: 1px solid gray;box-sizing: border-box;top: 0;bottom: 0;left: 50%;z-index: 0;}#sk-container-id-1 div.sk-serial {display: flex;flex-direction: column;align-items: center;background-color: white;padding-right: 0.2em;padding-left: 0.2em;position: relative;}#sk-container-id-1 div.sk-item {position: relative;z-index: 1;}#sk-container-id-1 div.sk-parallel {display: flex;align-items: stretch;justify-content: center;background-color: white;position: relative;}#sk-container-id-1 div.sk-item::before, #sk-container-id-1 div.sk-parallel-item::before {content: \"\";position: absolute;border-left: 1px solid gray;box-sizing: border-box;top: 0;bottom: 0;left: 50%;z-index: -1;}#sk-container-id-1 div.sk-parallel-item {display: flex;flex-direction: column;z-index: 1;position: relative;background-color: white;}#sk-container-id-1 div.sk-parallel-item:first-child::after {align-self: flex-end;width: 50%;}#sk-container-id-1 div.sk-parallel-item:last-child::after {align-self: flex-start;width: 50%;}#sk-container-id-1 div.sk-parallel-item:only-child::after {width: 0;}#sk-container-id-1 div.sk-dashed-wrapped {border: 1px dashed gray;margin: 0 0.4em 0.5em 0.4em;box-sizing: border-box;padding-bottom: 0.4em;background-color: white;}#sk-container-id-1 div.sk-label label {font-family: monospace;font-weight: bold;display: inline-block;line-height: 1.2em;}#sk-container-id-1 div.sk-label-container {text-align: center;}#sk-container-id-1 div.sk-container {/* jupyter's `normalize.less` sets `[hidden] { display: none; }` but bootstrap.min.css set `[hidden] { display: none !important; }` so we also need the `!important` here to be able to override the default hidden behavior on the sphinx rendered scikit-learn.org. See: https://github.com/scikit-learn/scikit-learn/issues/21755 */display: inline-block !important;position: relative;}#sk-container-id-1 div.sk-text-repr-fallback {display: none;}</style><div id=\"sk-container-id-1\" class=\"sk-top-container\"><div class=\"sk-text-repr-fallback\"><pre>SVC()</pre><b>In a Jupyter environment, please rerun this cell to show the HTML representation or trust the notebook. <br />On GitHub, the HTML representation is unable to render, please try loading this page with nbviewer.org.</b></div><div class=\"sk-container\" hidden><div class=\"sk-item\"><div class=\"sk-estimator sk-toggleable\"><input class=\"sk-toggleable__control sk-hidden--visually\" id=\"sk-estimator-id-1\" type=\"checkbox\" checked><label for=\"sk-estimator-id-1\" class=\"sk-toggleable__label sk-toggleable__label-arrow\">SVC</label><div class=\"sk-toggleable__content\"><pre>SVC()</pre></div></div></div></div></div>"
            ]
          },
          "metadata": {},
          "execution_count": 15
        }
      ]
    },
    {
      "cell_type": "code",
      "source": [
        "y_pred =clf.predict(xtest)\n",
        "y_pred"
      ],
      "metadata": {
        "colab": {
          "base_uri": "https://localhost:8080/"
        },
        "id": "IwYPXvdzk9xf",
        "outputId": "1edb311c-219d-47f9-f647-a601c9143a41"
      },
      "execution_count": null,
      "outputs": [
        {
          "output_type": "execute_result",
          "data": {
            "text/plain": [
              "array([1, 1, 1, 1, 1, 0, 1, 1, 0, 0, 0, 1, 1, 1, 0, 1, 1, 0, 0, 1, 1, 1,\n",
              "       0, 1, 0, 1, 1, 1])"
            ]
          },
          "metadata": {},
          "execution_count": 17
        }
      ]
    },
    {
      "cell_type": "code",
      "source": [],
      "metadata": {
        "id": "-YgaaqpIlOLF"
      },
      "execution_count": null,
      "outputs": []
    },
    {
      "cell_type": "code",
      "source": [
        "from sklearn.metrics import accuracy_score,confusion_matrix,precision_score,f1_score,recall_score\n"
      ],
      "metadata": {
        "id": "UhyqGBwzjsDY"
      },
      "execution_count": null,
      "outputs": []
    },
    {
      "cell_type": "code",
      "source": [
        "accuracy_score(y_pred,ytest)"
      ],
      "metadata": {
        "colab": {
          "base_uri": "https://localhost:8080/"
        },
        "id": "LitCMcWoleWZ",
        "outputId": "894e4d95-6055-4d55-e8fa-9b52e843a320"
      },
      "execution_count": null,
      "outputs": [
        {
          "output_type": "execute_result",
          "data": {
            "text/plain": [
              "0.4642857142857143"
            ]
          },
          "metadata": {},
          "execution_count": 20
        }
      ]
    },
    {
      "cell_type": "code",
      "source": [
        "confusion_matrix(y_pred,ytest)"
      ],
      "metadata": {
        "colab": {
          "base_uri": "https://localhost:8080/"
        },
        "id": "j9hmy1VxljIZ",
        "outputId": "da0b0b00-fd54-467a-a9e0-286a62c06d3e"
      },
      "execution_count": null,
      "outputs": [
        {
          "output_type": "execute_result",
          "data": {
            "text/plain": [
              "array([[ 4,  5],\n",
              "       [10,  9]])"
            ]
          },
          "metadata": {},
          "execution_count": 21
        }
      ]
    },
    {
      "cell_type": "code",
      "source": [
        "precision_score(y_pred,ytest)"
      ],
      "metadata": {
        "colab": {
          "base_uri": "https://localhost:8080/"
        },
        "id": "SSwKH8B2lr_p",
        "outputId": "c0998213-2345-4cef-e442-c3d9ca9d2314"
      },
      "execution_count": null,
      "outputs": [
        {
          "output_type": "execute_result",
          "data": {
            "text/plain": [
              "0.6428571428571429"
            ]
          },
          "metadata": {},
          "execution_count": 22
        }
      ]
    },
    {
      "cell_type": "code",
      "source": [
        "f1_score(y_pred,ytest)"
      ],
      "metadata": {
        "colab": {
          "base_uri": "https://localhost:8080/"
        },
        "id": "XJOV09SKltAf",
        "outputId": "314e00d9-315c-45a8-9554-995de6f91fd9"
      },
      "execution_count": null,
      "outputs": [
        {
          "output_type": "execute_result",
          "data": {
            "text/plain": [
              "0.5454545454545454"
            ]
          },
          "metadata": {},
          "execution_count": 23
        }
      ]
    },
    {
      "cell_type": "code",
      "source": [
        "recall_score(y_pred,ytest)"
      ],
      "metadata": {
        "colab": {
          "base_uri": "https://localhost:8080/"
        },
        "id": "WbiAj2bOl7Of",
        "outputId": "037d2e28-daf1-440b-b10b-5224a331a818"
      },
      "execution_count": null,
      "outputs": [
        {
          "output_type": "execute_result",
          "data": {
            "text/plain": [
              "0.47368421052631576"
            ]
          },
          "metadata": {},
          "execution_count": 24
        }
      ]
    },
    {
      "cell_type": "code",
      "source": [
        "path = '/content/drive/MyDrive/data science /Machine Learning /svm/test/cats/cat_1.jpg'\n",
        "img = imread(path)\n",
        "img = resize(img,(150,150,3)).flatten().reshape(1, -1)\n",
        "clf.predict(img)"
      ],
      "metadata": {
        "colab": {
          "base_uri": "https://localhost:8080/"
        },
        "id": "37GYfYUmmfml",
        "outputId": "6d3d8857-8702-40fa-a801-133e3edc7112"
      },
      "execution_count": null,
      "outputs": [
        {
          "output_type": "execute_result",
          "data": {
            "text/plain": [
              "array([0])"
            ]
          },
          "metadata": {},
          "execution_count": 28
        }
      ]
    },
    {
      "cell_type": "code",
      "source": [
        "path = '/content/drive/MyDrive/data science /Machine Learning /svm/test/dogs/dog_142.jpg'\n",
        "img = imread(path)\n",
        "img = resize(img,(150,150,3)).flatten().reshape(1, -1)\n",
        "clf.predict(img)"
      ],
      "metadata": {
        "colab": {
          "base_uri": "https://localhost:8080/"
        },
        "id": "Bze2Z6gRm7un",
        "outputId": "45388100-a1cd-45c7-f85b-865bbd9ac783"
      },
      "execution_count": null,
      "outputs": [
        {
          "output_type": "execute_result",
          "data": {
            "text/plain": [
              "array([1])"
            ]
          },
          "metadata": {},
          "execution_count": 29
        }
      ]
    }
  ]
}